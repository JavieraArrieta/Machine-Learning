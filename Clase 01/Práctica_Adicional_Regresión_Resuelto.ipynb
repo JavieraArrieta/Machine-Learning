{
 "cells": [
  {
   "cell_type": "markdown",
   "id": "bf910830-4551-411d-9302-f895ac866c42",
   "metadata": {},
   "source": [
    "Se requiere de un modelo que proponga un valor de cantidad de unidades de compra para cada producto. Deberás tener en cuenta que es tan importante poder encontrar el modelo como también explicar como lograste obtenerlo."
   ]
  },
  {
   "cell_type": "code",
   "execution_count": 42,
   "id": "87902f29-3d06-4a5c-8cb6-6e8ff1837abf",
   "metadata": {},
   "outputs": [],
   "source": [
    "import pandas as pd\n",
    "import matplotlib.pyplot as plt\n",
    "import seaborn as sns\n",
    "import numpy as np\n",
    "sns.set()"
   ]
  },
  {
   "cell_type": "code",
   "execution_count": 43,
   "id": "a66f0490-63e2-4463-a25f-5cdf2db82a96",
   "metadata": {},
   "outputs": [],
   "source": [
    "from IPython.display import clear_output"
   ]
  },
  {
   "cell_type": "code",
   "execution_count": 44,
   "id": "ef5760d6-24cd-4080-b289-f318587c2a63",
   "metadata": {},
   "outputs": [
    {
     "data": {
      "text/html": [
       "<div>\n",
       "<style scoped>\n",
       "    .dataframe tbody tr th:only-of-type {\n",
       "        vertical-align: middle;\n",
       "    }\n",
       "\n",
       "    .dataframe tbody tr th {\n",
       "        vertical-align: top;\n",
       "    }\n",
       "\n",
       "    .dataframe thead th {\n",
       "        text-align: right;\n",
       "    }\n",
       "</style>\n",
       "<table border=\"1\" class=\"dataframe\">\n",
       "  <thead>\n",
       "    <tr style=\"text-align: right;\">\n",
       "      <th></th>\n",
       "      <th>IdCompra</th>\n",
       "      <th>Fecha</th>\n",
       "      <th>Fecha_Año</th>\n",
       "      <th>Fecha_Mes</th>\n",
       "      <th>Fecha_Periodo</th>\n",
       "      <th>IdProducto</th>\n",
       "      <th>Cantidad</th>\n",
       "      <th>Precio</th>\n",
       "      <th>IdProveedor</th>\n",
       "    </tr>\n",
       "  </thead>\n",
       "  <tbody>\n",
       "    <tr>\n",
       "      <th>0</th>\n",
       "      <td>1</td>\n",
       "      <td>2015-01-30</td>\n",
       "      <td>2015</td>\n",
       "      <td>1</td>\n",
       "      <td>201501</td>\n",
       "      <td>42832</td>\n",
       "      <td>13</td>\n",
       "      <td>560.51</td>\n",
       "      <td>12</td>\n",
       "    </tr>\n",
       "    <tr>\n",
       "      <th>1</th>\n",
       "      <td>2</td>\n",
       "      <td>2015-01-30</td>\n",
       "      <td>2015</td>\n",
       "      <td>1</td>\n",
       "      <td>201501</td>\n",
       "      <td>42833</td>\n",
       "      <td>11</td>\n",
       "      <td>497.58</td>\n",
       "      <td>7</td>\n",
       "    </tr>\n",
       "    <tr>\n",
       "      <th>2</th>\n",
       "      <td>3</td>\n",
       "      <td>2015-01-30</td>\n",
       "      <td>2015</td>\n",
       "      <td>1</td>\n",
       "      <td>201501</td>\n",
       "      <td>42834</td>\n",
       "      <td>1</td>\n",
       "      <td>588.50</td>\n",
       "      <td>6</td>\n",
       "    </tr>\n",
       "    <tr>\n",
       "      <th>3</th>\n",
       "      <td>4</td>\n",
       "      <td>2015-01-30</td>\n",
       "      <td>2015</td>\n",
       "      <td>1</td>\n",
       "      <td>201501</td>\n",
       "      <td>42835</td>\n",
       "      <td>9</td>\n",
       "      <td>567.66</td>\n",
       "      <td>14</td>\n",
       "    </tr>\n",
       "    <tr>\n",
       "      <th>4</th>\n",
       "      <td>5</td>\n",
       "      <td>2015-01-30</td>\n",
       "      <td>2015</td>\n",
       "      <td>1</td>\n",
       "      <td>201501</td>\n",
       "      <td>42839</td>\n",
       "      <td>14</td>\n",
       "      <td>231.31</td>\n",
       "      <td>2</td>\n",
       "    </tr>\n",
       "  </tbody>\n",
       "</table>\n",
       "</div>"
      ],
      "text/plain": [
       "   IdCompra      Fecha  Fecha_Año  Fecha_Mes  Fecha_Periodo  IdProducto  \\\n",
       "0         1 2015-01-30       2015          1         201501       42832   \n",
       "1         2 2015-01-30       2015          1         201501       42833   \n",
       "2         3 2015-01-30       2015          1         201501       42834   \n",
       "3         4 2015-01-30       2015          1         201501       42835   \n",
       "4         5 2015-01-30       2015          1         201501       42839   \n",
       "\n",
       "   Cantidad  Precio  IdProveedor  \n",
       "0        13  560.51           12  \n",
       "1        11  497.58            7  \n",
       "2         1  588.50            6  \n",
       "3         9  567.66           14  \n",
       "4        14  231.31            2  "
      ]
     },
     "execution_count": 44,
     "metadata": {},
     "output_type": "execute_result"
    }
   ],
   "source": [
    "df_compra = pd.read_csv(\"../Datasets/Compra.csv\", sep=\",\", parse_dates=[\"Fecha\"])\n",
    "df_compra.head()"
   ]
  },
  {
   "cell_type": "code",
   "execution_count": 45,
   "id": "3e3cfdfe-ba6e-40e5-a15d-367991680314",
   "metadata": {
    "tags": []
   },
   "outputs": [
    {
     "name": "stdout",
     "output_type": "stream",
     "text": [
      "<class 'pandas.core.frame.DataFrame'>\n",
      "RangeIndex: 11539 entries, 0 to 11538\n",
      "Data columns (total 9 columns):\n",
      " #   Column         Non-Null Count  Dtype         \n",
      "---  ------         --------------  -----         \n",
      " 0   IdCompra       11539 non-null  int64         \n",
      " 1   Fecha          11539 non-null  datetime64[ns]\n",
      " 2   Fecha_Año      11539 non-null  int64         \n",
      " 3   Fecha_Mes      11539 non-null  int64         \n",
      " 4   Fecha_Periodo  11539 non-null  int64         \n",
      " 5   IdProducto     11539 non-null  int64         \n",
      " 6   Cantidad       11539 non-null  int64         \n",
      " 7   Precio         11172 non-null  float64       \n",
      " 8   IdProveedor    11539 non-null  int64         \n",
      "dtypes: datetime64[ns](1), float64(1), int64(7)\n",
      "memory usage: 811.5 KB\n"
     ]
    }
   ],
   "source": [
    "# Vemos que con parce_dates lo toma como datetime64\n",
    "df_compra.info()"
   ]
  },
  {
   "cell_type": "code",
   "execution_count": 38,
   "id": "d3e21e4e-ff8c-49da-b16e-53b9d0ff58c8",
   "metadata": {},
   "outputs": [
    {
     "data": {
      "text/plain": [
       "(11539, 9)"
      ]
     },
     "execution_count": 38,
     "metadata": {},
     "output_type": "execute_result"
    }
   ],
   "source": [
    "df_compra.shape"
   ]
  },
  {
   "cell_type": "markdown",
   "id": "1d636b38-a440-45d1-861f-884eb8b37aa7",
   "metadata": {},
   "source": [
    "Nos quedamos con los campos que vamos a utilizar"
   ]
  },
  {
   "cell_type": "code",
   "execution_count": 46,
   "id": "6de63c73-43b6-483f-80e5-1259f9f0890f",
   "metadata": {},
   "outputs": [
    {
     "data": {
      "text/html": [
       "<div>\n",
       "<style scoped>\n",
       "    .dataframe tbody tr th:only-of-type {\n",
       "        vertical-align: middle;\n",
       "    }\n",
       "\n",
       "    .dataframe tbody tr th {\n",
       "        vertical-align: top;\n",
       "    }\n",
       "\n",
       "    .dataframe thead th {\n",
       "        text-align: right;\n",
       "    }\n",
       "</style>\n",
       "<table border=\"1\" class=\"dataframe\">\n",
       "  <thead>\n",
       "    <tr style=\"text-align: right;\">\n",
       "      <th></th>\n",
       "      <th>Fecha</th>\n",
       "      <th>IdProducto</th>\n",
       "      <th>Cantidad</th>\n",
       "      <th>Fecha_Año</th>\n",
       "      <th>Fecha_Mes</th>\n",
       "      <th>Fecha_Periodo</th>\n",
       "    </tr>\n",
       "  </thead>\n",
       "  <tbody>\n",
       "    <tr>\n",
       "      <th>0</th>\n",
       "      <td>2015-01-30</td>\n",
       "      <td>42832</td>\n",
       "      <td>13</td>\n",
       "      <td>2015</td>\n",
       "      <td>1</td>\n",
       "      <td>201501</td>\n",
       "    </tr>\n",
       "    <tr>\n",
       "      <th>1</th>\n",
       "      <td>2015-01-30</td>\n",
       "      <td>42833</td>\n",
       "      <td>11</td>\n",
       "      <td>2015</td>\n",
       "      <td>1</td>\n",
       "      <td>201501</td>\n",
       "    </tr>\n",
       "    <tr>\n",
       "      <th>2</th>\n",
       "      <td>2015-01-30</td>\n",
       "      <td>42834</td>\n",
       "      <td>1</td>\n",
       "      <td>2015</td>\n",
       "      <td>1</td>\n",
       "      <td>201501</td>\n",
       "    </tr>\n",
       "    <tr>\n",
       "      <th>3</th>\n",
       "      <td>2015-01-30</td>\n",
       "      <td>42835</td>\n",
       "      <td>9</td>\n",
       "      <td>2015</td>\n",
       "      <td>1</td>\n",
       "      <td>201501</td>\n",
       "    </tr>\n",
       "    <tr>\n",
       "      <th>4</th>\n",
       "      <td>2015-01-30</td>\n",
       "      <td>42839</td>\n",
       "      <td>14</td>\n",
       "      <td>2015</td>\n",
       "      <td>1</td>\n",
       "      <td>201501</td>\n",
       "    </tr>\n",
       "  </tbody>\n",
       "</table>\n",
       "</div>"
      ],
      "text/plain": [
       "       Fecha  IdProducto  Cantidad  Fecha_Año  Fecha_Mes  Fecha_Periodo\n",
       "0 2015-01-30       42832        13       2015          1         201501\n",
       "1 2015-01-30       42833        11       2015          1         201501\n",
       "2 2015-01-30       42834         1       2015          1         201501\n",
       "3 2015-01-30       42835         9       2015          1         201501\n",
       "4 2015-01-30       42839        14       2015          1         201501"
      ]
     },
     "execution_count": 46,
     "metadata": {},
     "output_type": "execute_result"
    }
   ],
   "source": [
    "df_compra = df_compra[['Fecha','IdProducto','Cantidad','Fecha_Año','Fecha_Mes','Fecha_Periodo']]\n",
    "df_compra.head()"
   ]
  },
  {
   "cell_type": "code",
   "execution_count": 47,
   "id": "92c63c91-0194-42dc-bf37-328a8634af4c",
   "metadata": {},
   "outputs": [],
   "source": [
    "df_compra.sort_values(['IdProducto','Fecha'], inplace = True)"
   ]
  },
  {
   "cell_type": "code",
   "execution_count": 48,
   "id": "d82bf484-4b2a-406b-9bda-f8b96ada3807",
   "metadata": {},
   "outputs": [
    {
     "data": {
      "text/html": [
       "<div>\n",
       "<style scoped>\n",
       "    .dataframe tbody tr th:only-of-type {\n",
       "        vertical-align: middle;\n",
       "    }\n",
       "\n",
       "    .dataframe tbody tr th {\n",
       "        vertical-align: top;\n",
       "    }\n",
       "\n",
       "    .dataframe thead th {\n",
       "        text-align: right;\n",
       "    }\n",
       "</style>\n",
       "<table border=\"1\" class=\"dataframe\">\n",
       "  <thead>\n",
       "    <tr style=\"text-align: right;\">\n",
       "      <th></th>\n",
       "      <th>Fecha</th>\n",
       "      <th>IdProducto</th>\n",
       "      <th>Cantidad</th>\n",
       "      <th>Fecha_Año</th>\n",
       "      <th>Fecha_Mes</th>\n",
       "      <th>Fecha_Periodo</th>\n",
       "    </tr>\n",
       "  </thead>\n",
       "  <tbody>\n",
       "    <tr>\n",
       "      <th>0</th>\n",
       "      <td>2015-01-30</td>\n",
       "      <td>42737</td>\n",
       "      <td>2</td>\n",
       "      <td>2015</td>\n",
       "      <td>1</td>\n",
       "      <td>201501</td>\n",
       "    </tr>\n",
       "    <tr>\n",
       "      <th>1</th>\n",
       "      <td>2015-05-29</td>\n",
       "      <td>42737</td>\n",
       "      <td>8</td>\n",
       "      <td>2015</td>\n",
       "      <td>5</td>\n",
       "      <td>201505</td>\n",
       "    </tr>\n",
       "    <tr>\n",
       "      <th>2</th>\n",
       "      <td>2015-06-26</td>\n",
       "      <td>42737</td>\n",
       "      <td>9</td>\n",
       "      <td>2015</td>\n",
       "      <td>6</td>\n",
       "      <td>201506</td>\n",
       "    </tr>\n",
       "    <tr>\n",
       "      <th>3</th>\n",
       "      <td>2015-07-31</td>\n",
       "      <td>42737</td>\n",
       "      <td>5</td>\n",
       "      <td>2015</td>\n",
       "      <td>7</td>\n",
       "      <td>201507</td>\n",
       "    </tr>\n",
       "    <tr>\n",
       "      <th>4</th>\n",
       "      <td>2015-08-28</td>\n",
       "      <td>42737</td>\n",
       "      <td>10</td>\n",
       "      <td>2015</td>\n",
       "      <td>8</td>\n",
       "      <td>201508</td>\n",
       "    </tr>\n",
       "  </tbody>\n",
       "</table>\n",
       "</div>"
      ],
      "text/plain": [
       "       Fecha  IdProducto  Cantidad  Fecha_Año  Fecha_Mes  Fecha_Periodo\n",
       "0 2015-01-30       42737         2       2015          1         201501\n",
       "1 2015-05-29       42737         8       2015          5         201505\n",
       "2 2015-06-26       42737         9       2015          6         201506\n",
       "3 2015-07-31       42737         5       2015          7         201507\n",
       "4 2015-08-28       42737        10       2015          8         201508"
      ]
     },
     "execution_count": 48,
     "metadata": {},
     "output_type": "execute_result"
    }
   ],
   "source": [
    "df_compra.reset_index(inplace = True, drop  = True)\n",
    "df_compra.head()"
   ]
  },
  {
   "cell_type": "markdown",
   "id": "a2dbd901-d604-4b49-890f-5a136fe72a7c",
   "metadata": {},
   "source": [
    "Visualizamos el comportamiento de los datos de un único producto aleatorio"
   ]
  },
  {
   "cell_type": "code",
   "execution_count": 60,
   "id": "0ce177c9",
   "metadata": {},
   "outputs": [
    {
     "data": {
      "text/html": [
       "<div>\n",
       "<style scoped>\n",
       "    .dataframe tbody tr th:only-of-type {\n",
       "        vertical-align: middle;\n",
       "    }\n",
       "\n",
       "    .dataframe tbody tr th {\n",
       "        vertical-align: top;\n",
       "    }\n",
       "\n",
       "    .dataframe thead th {\n",
       "        text-align: right;\n",
       "    }\n",
       "</style>\n",
       "<table border=\"1\" class=\"dataframe\">\n",
       "  <thead>\n",
       "    <tr style=\"text-align: right;\">\n",
       "      <th></th>\n",
       "      <th>Fecha</th>\n",
       "      <th>IdProducto</th>\n",
       "      <th>Cantidad</th>\n",
       "      <th>Fecha_Año</th>\n",
       "      <th>Fecha_Mes</th>\n",
       "      <th>Fecha_Periodo</th>\n",
       "    </tr>\n",
       "  </thead>\n",
       "  <tbody>\n",
       "    <tr>\n",
       "      <th>4854</th>\n",
       "      <td>2015-01-30</td>\n",
       "      <td>42880</td>\n",
       "      <td>20</td>\n",
       "      <td>2015</td>\n",
       "      <td>1</td>\n",
       "      <td>201501</td>\n",
       "    </tr>\n",
       "    <tr>\n",
       "      <th>4855</th>\n",
       "      <td>2015-03-27</td>\n",
       "      <td>42880</td>\n",
       "      <td>10</td>\n",
       "      <td>2015</td>\n",
       "      <td>3</td>\n",
       "      <td>201503</td>\n",
       "    </tr>\n",
       "    <tr>\n",
       "      <th>4856</th>\n",
       "      <td>2015-04-24</td>\n",
       "      <td>42880</td>\n",
       "      <td>3</td>\n",
       "      <td>2015</td>\n",
       "      <td>4</td>\n",
       "      <td>201504</td>\n",
       "    </tr>\n",
       "    <tr>\n",
       "      <th>4857</th>\n",
       "      <td>2015-06-26</td>\n",
       "      <td>42880</td>\n",
       "      <td>10</td>\n",
       "      <td>2015</td>\n",
       "      <td>6</td>\n",
       "      <td>201506</td>\n",
       "    </tr>\n",
       "    <tr>\n",
       "      <th>4858</th>\n",
       "      <td>2015-07-31</td>\n",
       "      <td>42880</td>\n",
       "      <td>8</td>\n",
       "      <td>2015</td>\n",
       "      <td>7</td>\n",
       "      <td>201507</td>\n",
       "    </tr>\n",
       "  </tbody>\n",
       "</table>\n",
       "</div>"
      ],
      "text/plain": [
       "          Fecha  IdProducto  Cantidad  Fecha_Año  Fecha_Mes  Fecha_Periodo\n",
       "4854 2015-01-30       42880        20       2015          1         201501\n",
       "4855 2015-03-27       42880        10       2015          3         201503\n",
       "4856 2015-04-24       42880         3       2015          4         201504\n",
       "4857 2015-06-26       42880        10       2015          6         201506\n",
       "4858 2015-07-31       42880         8       2015          7         201507"
      ]
     },
     "execution_count": 60,
     "metadata": {},
     "output_type": "execute_result"
    }
   ],
   "source": [
    "data = df_compra[df_compra.IdProducto == 42880]\n",
    "data.head()"
   ]
  },
  {
   "cell_type": "code",
   "execution_count": 57,
   "id": "07d2153f-9a4f-498b-b625-c7bccf422988",
   "metadata": {},
   "outputs": [
    {
     "data": {
      "image/png": "[encoded data removed]",
      "text/plain": [
       "<Figure size 720x576 with 1 Axes>"
      ]
     },
     "metadata": {},
     "output_type": "display_data"
    }
   ],
   "source": [
    "plt.figure(figsize = (10,8))\n",
    "sns.lineplot(x = 'Fecha', y = 'Cantidad', data = df_compra[df_compra.IdProducto == 42880], hue = 'IdProducto', palette='dark')\n",
    "plt.show()"
   ]
  },
  {
   "cell_type": "markdown",
   "id": "10a1213b-2857-40d8-9d22-c245366d5fd9",
   "metadata": {},
   "source": [
    "Convertimos el campos Fecha a un valor numérico para utilizarlo como input al modelo de regresión"
   ]
  },
  {
   "cell_type": "code",
   "execution_count": 61,
   "id": "a6e08fe6-5ded-4b80-b418-a0cdf556d995",
   "metadata": {},
   "outputs": [
    {
     "data": {
      "text/html": [
       "<div>\n",
       "<style scoped>\n",
       "    .dataframe tbody tr th:only-of-type {\n",
       "        vertical-align: middle;\n",
       "    }\n",
       "\n",
       "    .dataframe tbody tr th {\n",
       "        vertical-align: top;\n",
       "    }\n",
       "\n",
       "    .dataframe thead th {\n",
       "        text-align: right;\n",
       "    }\n",
       "</style>\n",
       "<table border=\"1\" class=\"dataframe\">\n",
       "  <thead>\n",
       "    <tr style=\"text-align: right;\">\n",
       "      <th></th>\n",
       "      <th>Fecha</th>\n",
       "      <th>IdProducto</th>\n",
       "      <th>Cantidad</th>\n",
       "      <th>Fecha_Año</th>\n",
       "      <th>Fecha_Mes</th>\n",
       "      <th>Fecha_Periodo</th>\n",
       "      <th>Fecha_Numerico</th>\n",
       "    </tr>\n",
       "  </thead>\n",
       "  <tbody>\n",
       "    <tr>\n",
       "      <th>0</th>\n",
       "      <td>2015-01-30</td>\n",
       "      <td>42737</td>\n",
       "      <td>2</td>\n",
       "      <td>2015</td>\n",
       "      <td>1</td>\n",
       "      <td>201501</td>\n",
       "      <td>735628</td>\n",
       "    </tr>\n",
       "    <tr>\n",
       "      <th>1</th>\n",
       "      <td>2015-05-29</td>\n",
       "      <td>42737</td>\n",
       "      <td>8</td>\n",
       "      <td>2015</td>\n",
       "      <td>5</td>\n",
       "      <td>201505</td>\n",
       "      <td>735747</td>\n",
       "    </tr>\n",
       "    <tr>\n",
       "      <th>2</th>\n",
       "      <td>2015-06-26</td>\n",
       "      <td>42737</td>\n",
       "      <td>9</td>\n",
       "      <td>2015</td>\n",
       "      <td>6</td>\n",
       "      <td>201506</td>\n",
       "      <td>735775</td>\n",
       "    </tr>\n",
       "    <tr>\n",
       "      <th>3</th>\n",
       "      <td>2015-07-31</td>\n",
       "      <td>42737</td>\n",
       "      <td>5</td>\n",
       "      <td>2015</td>\n",
       "      <td>7</td>\n",
       "      <td>201507</td>\n",
       "      <td>735810</td>\n",
       "    </tr>\n",
       "    <tr>\n",
       "      <th>4</th>\n",
       "      <td>2015-08-28</td>\n",
       "      <td>42737</td>\n",
       "      <td>10</td>\n",
       "      <td>2015</td>\n",
       "      <td>8</td>\n",
       "      <td>201508</td>\n",
       "      <td>735838</td>\n",
       "    </tr>\n",
       "  </tbody>\n",
       "</table>\n",
       "</div>"
      ],
      "text/plain": [
       "       Fecha  IdProducto  Cantidad  Fecha_Año  Fecha_Mes  Fecha_Periodo  \\\n",
       "0 2015-01-30       42737         2       2015          1         201501   \n",
       "1 2015-05-29       42737         8       2015          5         201505   \n",
       "2 2015-06-26       42737         9       2015          6         201506   \n",
       "3 2015-07-31       42737         5       2015          7         201507   \n",
       "4 2015-08-28       42737        10       2015          8         201508   \n",
       "\n",
       "   Fecha_Numerico  \n",
       "0          735628  \n",
       "1          735747  \n",
       "2          735775  \n",
       "3          735810  \n",
       "4          735838  "
      ]
     },
     "execution_count": 61,
     "metadata": {},
     "output_type": "execute_result"
    }
   ],
   "source": [
    "import datetime as dt\n",
    "df_compra['Fecha_Numerico']=df_compra['Fecha'].map(dt.datetime.toordinal)\n",
    "df_compra.head()\n",
    "\n",
    "# Fecha numerica cantidad de dias hasta la fecha"
   ]
  },
  {
   "cell_type": "code",
   "execution_count": 67,
   "id": "0e9ae409-f5fe-4ca4-b9c0-c5da60224cd6",
   "metadata": {},
   "outputs": [
    {
     "data": {
      "text/plain": [
       "4884    737483\n",
       "4885    737511\n",
       "4886    737574\n",
       "4887    737602\n",
       "4888    737637\n",
       "4889    737665\n",
       "4890    737693\n",
       "4891    737728\n",
       "4892    737784\n",
       "Name: Fecha_Numerico, dtype: int64"
      ]
     },
     "execution_count": 67,
     "metadata": {},
     "output_type": "execute_result"
    }
   ],
   "source": [
    "x = df_compra[(df_compra.IdProducto == 42880) & (df_compra.Fecha_Año == 2020)].Fecha_Numerico\n",
    "y = df_compra[(df_compra.IdProducto == 42880) & (df_compra.Fecha_Año == 2020)].Cantidad\n",
    "x"
   ]
  },
  {
   "cell_type": "code",
   "execution_count": 70,
   "id": "1c69c86e-0cac-4153-a5ec-1fe5e9cedebd",
   "metadata": {},
   "outputs": [
    {
     "data": {
      "image/png": "[encoded data removed]",
      "text/plain": [
       "<Figure size 432x288 with 1 Axes>"
      ]
     },
     "metadata": {},
     "output_type": "display_data"
    }
   ],
   "source": [
    "# Ploteamos\n",
    "plt.scatter(x,y)\n",
    "plt.show()\n",
    "\n",
    "# El pto mas alto podria ser un outlier"
   ]
  },
  {
   "cell_type": "code",
   "execution_count": 68,
   "id": "1b358dd6-ac35-415d-8b63-b6da6ad32db8",
   "metadata": {},
   "outputs": [
    {
     "data": {
      "text/html": [
       "<div>\n",
       "<style scoped>\n",
       "    .dataframe tbody tr th:only-of-type {\n",
       "        vertical-align: middle;\n",
       "    }\n",
       "\n",
       "    .dataframe tbody tr th {\n",
       "        vertical-align: top;\n",
       "    }\n",
       "\n",
       "    .dataframe thead th {\n",
       "        text-align: right;\n",
       "    }\n",
       "</style>\n",
       "<table border=\"1\" class=\"dataframe\">\n",
       "  <thead>\n",
       "    <tr style=\"text-align: right;\">\n",
       "      <th></th>\n",
       "      <th>Fecha_Numerico</th>\n",
       "      <th>Cantidad</th>\n",
       "    </tr>\n",
       "  </thead>\n",
       "  <tbody>\n",
       "    <tr>\n",
       "      <th>Fecha_Numerico</th>\n",
       "      <td>1.000000</td>\n",
       "      <td>-0.039009</td>\n",
       "    </tr>\n",
       "    <tr>\n",
       "      <th>Cantidad</th>\n",
       "      <td>-0.039009</td>\n",
       "      <td>1.000000</td>\n",
       "    </tr>\n",
       "  </tbody>\n",
       "</table>\n",
       "</div>"
      ],
      "text/plain": [
       "                Fecha_Numerico  Cantidad\n",
       "Fecha_Numerico        1.000000 -0.039009\n",
       "Cantidad             -0.039009  1.000000"
      ]
     },
     "execution_count": 68,
     "metadata": {},
     "output_type": "execute_result"
    }
   ],
   "source": [
    "df_compra[(df_compra.IdProducto == 42880)][['Fecha_Numerico','Cantidad']].corr()\n",
    "# Correlacion negativa baja(inversa)"
   ]
  },
  {
   "cell_type": "code",
   "execution_count": 84,
   "id": "0b478297-69e8-4baf-8175-34858065db4a",
   "metadata": {
    "tags": []
   },
   "outputs": [
    {
     "data": {
      "text/html": [
       "<div>\n",
       "<style scoped>\n",
       "    .dataframe tbody tr th:only-of-type {\n",
       "        vertical-align: middle;\n",
       "    }\n",
       "\n",
       "    .dataframe tbody tr th {\n",
       "        vertical-align: top;\n",
       "    }\n",
       "\n",
       "    .dataframe thead th {\n",
       "        text-align: right;\n",
       "    }\n",
       "</style>\n",
       "<table border=\"1\" class=\"dataframe\">\n",
       "  <thead>\n",
       "    <tr style=\"text-align: right;\">\n",
       "      <th></th>\n",
       "      <th>Fecha_Numerico</th>\n",
       "      <th>Cantidad</th>\n",
       "    </tr>\n",
       "  </thead>\n",
       "  <tbody>\n",
       "    <tr>\n",
       "      <th>Fecha_Numerico</th>\n",
       "      <td>1.000000</td>\n",
       "      <td>-0.114332</td>\n",
       "    </tr>\n",
       "    <tr>\n",
       "      <th>Cantidad</th>\n",
       "      <td>-0.114332</td>\n",
       "      <td>1.000000</td>\n",
       "    </tr>\n",
       "  </tbody>\n",
       "</table>\n",
       "</div>"
      ],
      "text/plain": [
       "                Fecha_Numerico  Cantidad\n",
       "Fecha_Numerico        1.000000 -0.114332\n",
       "Cantidad             -0.114332  1.000000"
      ]
     },
     "execution_count": 84,
     "metadata": {},
     "output_type": "execute_result"
    }
   ],
   "source": [
    "df_compra[(df_compra.IdProducto == 42880) & (df_compra.Fecha_Año >= 2020)][['Fecha_Numerico','Cantidad']].corr()\n",
    "# Correlacion negativa"
   ]
  },
  {
   "cell_type": "code",
   "execution_count": 71,
   "id": "abb7046c-3ffa-4df5-83e5-750c3908ac4b",
   "metadata": {},
   "outputs": [],
   "source": [
    "from sklearn.linear_model import LinearRegression"
   ]
  },
  {
   "cell_type": "markdown",
   "id": "8e7782b8-5924-4cee-a062-0f850ba79f72",
   "metadata": {},
   "source": [
    "La separación entre los datos de entrenamiento y prueba, lo hacemos en base a períodos"
   ]
  },
  {
   "cell_type": "code",
   "execution_count": 72,
   "id": "d0400cce-3b16-4f20-8089-a33b35b4837e",
   "metadata": {},
   "outputs": [],
   "source": [
    "# Train hasta la fecha periodo de 202008\n",
    "X_train = df_compra[(df_compra.IdProducto == 42880) & (df_compra.Fecha_Periodo >= 201901) & (df_compra.Fecha_Periodo < 202008)].Fecha_Numerico.values\n",
    "y_train = df_compra[(df_compra.IdProducto == 42880) & (df_compra.Fecha_Periodo >= 201901) & (df_compra.Fecha_Periodo < 202008)].Cantidad.values\n",
    "X_test = df_compra[(df_compra.IdProducto == 42880) & (df_compra.Fecha_Periodo >= 202008)].Fecha_Numerico.values\n",
    "y_test = df_compra[(df_compra.IdProducto == 42880) & (df_compra.Fecha_Periodo >= 202008)].Cantidad.values"
   ]
  },
  {
   "cell_type": "code",
   "execution_count": 73,
   "id": "fd1e868d-9732-44bb-88e5-e2e199597165",
   "metadata": {},
   "outputs": [],
   "source": [
    "# Cambiamos la estructura de de fila a columna\n",
    "X_train = X_train.reshape(-1,1)\n",
    "X_test = X_test.reshape(-1,1)"
   ]
  },
  {
   "cell_type": "code",
   "execution_count": 26,
   "id": "a3466fb3-9491-4037-b125-dfc3bda6d9d7",
   "metadata": {},
   "outputs": [],
   "source": [
    "# from sklearn.model_selection import train_test_split\n",
    "# X_train, X_test, y_train, y_test = train_test_split(X, y, test_size=0.2, random_state=42)"
   ]
  },
  {
   "cell_type": "code",
   "execution_count": 74,
   "id": "bd7efd41-54c8-4ae3-a012-fd246f33a914",
   "metadata": {},
   "outputs": [],
   "source": [
    "# Instanciamos un objeto de la clase LinearRegression. \n",
    "# Creamos nuestro nuevo modelo\n",
    "modelo = LinearRegression(fit_intercept=True)"
   ]
  },
  {
   "cell_type": "code",
   "execution_count": 77,
   "id": "4d0ad8b0-8d55-460e-aebf-f5e1fb730b86",
   "metadata": {},
   "outputs": [
    {
     "data": {
      "text/plain": [
       "LinearRegression()"
      ]
     },
     "execution_count": 77,
     "metadata": {},
     "output_type": "execute_result"
    }
   ],
   "source": [
    "# Entrenamos el modelo\n",
    "modelo.fit(X_train, y_train)"
   ]
  },
  {
   "cell_type": "code",
   "execution_count": 78,
   "id": "fca05021-289f-4288-9fe4-69424028a85f",
   "metadata": {},
   "outputs": [
    {
     "name": "stdout",
     "output_type": "stream",
     "text": [
      "La pendiente es : [0.00310931]\n",
      "La ordenada al origen es: -2283.2961188293393\n"
     ]
    }
   ],
   "source": [
    "print('La pendiente es :', modelo.coef_)\n",
    "print('La ordenada al origen es:', modelo.intercept_)"
   ]
  },
  {
   "cell_type": "markdown",
   "id": "f0aa6e8d-f4db-4a7c-bfdf-87a139a70cfe",
   "metadata": {},
   "source": [
    "Evaluamos el error"
   ]
  },
  {
   "cell_type": "code",
   "execution_count": 81,
   "id": "f4668e95-6a0f-47f2-8628-40e2bf2da687",
   "metadata": {},
   "outputs": [
    {
     "name": "stdout",
     "output_type": "stream",
     "text": [
      "Error en datos de train: 4.460402887649882\n",
      "Error en datos de test: 4.78900547382667\n"
     ]
    }
   ],
   "source": [
    "from sklearn.metrics import mean_squared_error\n",
    "y_train_pred = modelo.predict(X_train)\n",
    "y_test_pred = modelo.predict(X_test)\n",
    "print('Error en datos de train:', np.sqrt(mean_squared_error(y_train, y_train_pred)))  # Agregarle raiz\n",
    "print('Error en datos de test:', np.sqrt(mean_squared_error(y_test, y_test_pred)))"
   ]
  },
  {
   "cell_type": "markdown",
   "id": "309bb462-4572-4e4c-ae56-471895f06cb0",
   "metadata": {},
   "source": [
    "Graficamos"
   ]
  },
  {
   "cell_type": "code",
   "execution_count": 85,
   "id": "23ff55ea-dbc4-45a2-903d-1f8f09605e72",
   "metadata": {},
   "outputs": [
    {
     "data": {
      "image/png": "[encoded data removed]",
      "text/plain": [
       "<Figure size 720x576 with 1 Axes>"
      ]
     },
     "metadata": {},
     "output_type": "display_data"
    }
   ],
   "source": [
    "plt.figure(figsize = (10,8))\n",
    "\n",
    "plt.scatter(X_train, y_train,  color='green', label = 'Datos Train')\n",
    "plt.plot(X_train, y_train_pred, color='k', linestyle = '--', label = 'Prediccion Train')\n",
    "\n",
    "plt.scatter(X_test, y_test,  color='red', label = 'Datos Test')\n",
    "plt.plot(X_test, y_test_pred, color='blue', linewidth=5.0, label = 'Prediccion Test')\n",
    "\n",
    "plt.legend()\n",
    "plt.show()"
   ]
  },
  {
   "cell_type": "markdown",
   "id": "6aa6dbff-ec6b-499d-88d3-ba541eea8f1f",
   "metadata": {},
   "source": [
    "Establecemos una fecha real para la cual queremos hacer la predicción y usamos el modelo"
   ]
  },
  {
   "cell_type": "code",
   "execution_count": 92,
   "id": "5e9decbd-d722-43e4-93b8-0791cba575db",
   "metadata": {},
   "outputs": [],
   "source": [
    "from datetime import datetime\n",
    "fecha_prediccion = '2021-01-01'"
   ]
  },
  {
   "cell_type": "code",
   "execution_count": 93,
   "id": "9b16ab6b-ae14-41af-b532-057bb50c9d0d",
   "metadata": {},
   "outputs": [],
   "source": [
    "fecha_prediccion = datetime.strptime(fecha_prediccion, '%Y-%m-%d').date()"
   ]
  },
  {
   "cell_type": "code",
   "execution_count": 94,
   "id": "03fc6bd0-a13e-4c1b-9aed-49d1c7a0cf74",
   "metadata": {},
   "outputs": [],
   "source": [
    "fecha_prediccion = fecha_prediccion.toordinal()\n",
    "#fecha_prediccion = datetime.fromordinal(fecha_prediccion)"
   ]
  },
  {
   "cell_type": "code",
   "execution_count": 95,
   "id": "8b01d8f7-dd42-4c5a-894e-b0166f63d2da",
   "metadata": {},
   "outputs": [],
   "source": [
    "fecha_prediccion = np.array(fecha_prediccion)"
   ]
  },
  {
   "cell_type": "code",
   "execution_count": 96,
   "id": "d1b361c0-8bae-4045-aa70-aaea506d7bb5",
   "metadata": {},
   "outputs": [],
   "source": [
    "fecha_prediccion = fecha_prediccion.reshape(-1,1)"
   ]
  },
  {
   "cell_type": "code",
   "execution_count": 97,
   "id": "c3fb503e-120f-40ef-83d0-30c896f2ae24",
   "metadata": {},
   "outputs": [],
   "source": [
    "cantidad_prediccion = modelo.predict(fecha_prediccion)"
   ]
  },
  {
   "cell_type": "code",
   "execution_count": 98,
   "id": "8e622ed1-469a-469d-ba71-1e46d789fb63",
   "metadata": {},
   "outputs": [
    {
     "name": "stdout",
     "output_type": "stream",
     "text": [
      "La cantidad que se predice es :10.73\n"
     ]
    }
   ],
   "source": [
    "print('La cantidad que se predice es :' + str(round(cantidad_prediccion[0],2)))"
   ]
  }
 ],
 "metadata": {
  "kernelspec": {
   "display_name": "Python 3.9.12 ('base')",
   "language": "python",
   "name": "python3"
  },
  "language_info": {
   "codemirror_mode": {
    "name": "ipython",
    "version": 3
   },
   "file_extension": ".py",
   "mimetype": "text/x-python",
   "name": "python",
   "nbconvert_exporter": "python",
   "pygments_lexer": "ipython3",
   "version": "3.9.12"
  },
  "vscode": {
   "interpreter": {
    "hash": "20a9e06a1eee47c4abbed4ec8225ad91d78d9800d202b71b6b0a6e47016c6abd"
   }
  }
 },
 "nbformat": 4,
 "nbformat_minor": 5
}

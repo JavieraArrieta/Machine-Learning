{
 "cells": [
  {
   "cell_type": "markdown",
   "metadata": {},
   "source": [
    "# **Evaluación de modelos de clasificación**\n",
    "\n",
    "En esta práctica, veremos cómo evaluar un modelo de clasificación con las diversas métricas vistas en la parte teórica.\n",
    "\n",
    "Trabajaremos con uno de los datasets provisto por Scikit-learn referente a Iris."
   ]
  },
  {
   "cell_type": "code",
   "execution_count": 50,
   "metadata": {},
   "outputs": [],
   "source": [
    "import numpy as np\n",
    "import matplotlib.pyplot as plt\n",
    "from sklearn import datasets"
   ]
  },
  {
   "cell_type": "code",
   "execution_count": 51,
   "metadata": {},
   "outputs": [],
   "source": [
    "# Cargamos el dataset y definimos las variables X e Y\n",
    "iris = datasets.load_iris()\n",
    "X = iris.data \n",
    "y = iris.target"
   ]
  },
  {
   "cell_type": "code",
   "execution_count": 52,
   "metadata": {},
   "outputs": [
    {
     "data": {
      "text/plain": [
       "150"
      ]
     },
     "execution_count": 52,
     "metadata": {},
     "output_type": "execute_result"
    }
   ],
   "source": [
    "# Cantidad de registros\n",
    "len(y)"
   ]
  },
  {
   "cell_type": "markdown",
   "metadata": {},
   "source": [
    "Ahora que definimos nuestras variables predictoras **X** y la etiqueta a predecir **y**, vamos a separar nuestros datos en entrenamiento y testeo. Utilizaremos el 20% del dataset para evaluar."
   ]
  },
  {
   "cell_type": "code",
   "execution_count": 53,
   "metadata": {},
   "outputs": [],
   "source": [
    "from sklearn.model_selection import train_test_split\n",
    "\n",
    "X_train, X_test, y_train, y_test = train_test_split(X, y, test_size = 0.2, random_state = 42)"
   ]
  },
  {
   "cell_type": "markdown",
   "metadata": {},
   "source": [
    "Vamos a trabajar con un modelo de vecinos más cercanos. Seguimos el flujo de trabajo de ML en Scikit-learn."
   ]
  },
  {
   "cell_type": "code",
   "execution_count": 54,
   "metadata": {},
   "outputs": [],
   "source": [
    "from sklearn.neighbors import KNeighborsClassifier\n",
    "\n",
    "# Instanciamos el modelo clasificador\n",
    "    \n",
    "classifier = KNeighborsClassifier(n_neighbors=50)"
   ]
  },
  {
   "cell_type": "code",
   "execution_count": 55,
   "metadata": {},
   "outputs": [
    {
     "data": {
      "text/plain": [
       "KNeighborsClassifier(n_neighbors=50)"
      ]
     },
     "execution_count": 55,
     "metadata": {},
     "output_type": "execute_result"
    }
   ],
   "source": [
    "# Entrenamos el modelo. Para ello, usamos nuestro set de entrenamiento\n",
    "\n",
    "classifier.fit(X_train, y_train)"
   ]
  },
  {
   "cell_type": "code",
   "execution_count": 56,
   "metadata": {},
   "outputs": [],
   "source": [
    "# Predecimos sobre nuestro set de entrenamieto\n",
    "\n",
    "y_train_pred = classifier.predict(X_train)\n",
    "\n",
    "# Predecimos sobre nuestro set de testeo\n",
    "\n",
    "y_test_pred = classifier.predict(X_test)"
   ]
  },
  {
   "cell_type": "markdown",
   "metadata": {},
   "source": [
    "## **`Matriz de confusión`**\n",
    "\n",
    "Veamos la matriz de nuestro modelo"
   ]
  },
  {
   "cell_type": "code",
   "execution_count": 57,
   "metadata": {},
   "outputs": [],
   "source": [
    "from sklearn.metrics import confusion_matrix\n",
    "\n",
    "# Aplicamos la matriz de confusion a los datos train y test\n",
    "matrix = confusion_matrix(y_train, y_train_pred) # param: valor esperado, valor predicho\n",
    "matrix_2 = confusion_matrix(y_test, y_test_pred)"
   ]
  },
  {
   "cell_type": "code",
   "execution_count": 58,
   "metadata": {},
   "outputs": [
    {
     "data": {
      "text/plain": [
       "array([[40,  0,  0],\n",
       "       [ 0, 39,  2],\n",
       "       [ 0, 11, 28]], dtype=int64)"
      ]
     },
     "execution_count": 58,
     "metadata": {},
     "output_type": "execute_result"
    }
   ],
   "source": [
    "# Matriz de confusion para cada una de las clases (3 clases de flores)\n",
    "matrix\n",
    "# La diagonal son los casos que el modelo acerto"
   ]
  },
  {
   "cell_type": "code",
   "execution_count": 59,
   "metadata": {},
   "outputs": [
    {
     "data": {
      "text/plain": [
       "array([[10,  0,  0],\n",
       "       [ 0,  9,  0],\n",
       "       [ 0,  1, 10]], dtype=int64)"
      ]
     },
     "execution_count": 59,
     "metadata": {},
     "output_type": "execute_result"
    }
   ],
   "source": [
    "matrix_2"
   ]
  },
  {
   "cell_type": "markdown",
   "metadata": {},
   "source": [
    "*Grafiquemos la matriz*"
   ]
  },
  {
   "cell_type": "code",
   "execution_count": 60,
   "metadata": {},
   "outputs": [],
   "source": [
    "from sklearn.metrics import ConfusionMatrixDisplay\n",
    "\n",
    "cm_display = ConfusionMatrixDisplay(matrix)\n",
    "cm_display_2 = ConfusionMatrixDisplay(matrix_2)\n"
   ]
  },
  {
   "cell_type": "code",
   "execution_count": 61,
   "metadata": {},
   "outputs": [
    {
     "data": {
      "image/png": "[encoded data removed]",
      "text/plain": [
       "<Figure size 288x360 with 1 Axes>"
      ]
     },
     "metadata": {
      "needs_background": "light"
     },
     "output_type": "display_data"
    }
   ],
   "source": [
    "fig, ax = plt.subplots(figsize=(4,5))\n",
    "\n",
    "ax.matshow(matrix)\n",
    "for (i, j), z in np.ndenumerate(matrix):\n",
    "    ax.text(j, i, '{:0.1f}'.format(z), ha='center', va='center')\n",
    "plt.show()"
   ]
  },
  {
   "cell_type": "code",
   "execution_count": 62,
   "metadata": {},
   "outputs": [
    {
     "data": {
      "image/png": "[encoded data removed]",
      "text/plain": [
       "<Figure size 432x288 with 2 Axes>"
      ]
     },
     "metadata": {
      "needs_background": "light"
     },
     "output_type": "display_data"
    }
   ],
   "source": [
    "# Otra forma más sencilla de realizar la gráfica es la siguiente\n",
    "\n",
    "cm_display.plot()\n",
    "plt.show()"
   ]
  },
  {
   "cell_type": "code",
   "execution_count": 63,
   "metadata": {},
   "outputs": [
    {
     "data": {
      "image/png": "[encoded data removed]",
      "text/plain": [
       "<Figure size 432x288 with 2 Axes>"
      ]
     },
     "metadata": {
      "needs_background": "light"
     },
     "output_type": "display_data"
    }
   ],
   "source": [
    "cm_display_2.plot()\n",
    "plt.show()"
   ]
  },
  {
   "cell_type": "markdown",
   "metadata": {},
   "source": [
    "- Precision nos da la calidad de la predicción: <br>\n",
    "¿qué porcentaje de los que hemos dicho que son la clase positiva, en realidad lo son?\n",
    "- Recall nos da la cantidad: <br>\n",
    "¿qué porcentaje de la clase positiva hemos sido capaces de identificar?\n",
    "- F1 combina Precision y Recall en una sola medida\n",
    "- La Matriz de Confusión indica qué tipos de errores se cometen"
   ]
  },
  {
   "cell_type": "markdown",
   "metadata": {},
   "source": [
    "Si es binario: La precision y recall va a ser respecto a los positivos o negativos. <br>\n",
    "Si es multiclase: La precision y recall va a ser respecto a cada clase"
   ]
  },
  {
   "cell_type": "markdown",
   "metadata": {},
   "source": [
    "### **`Exactitud`** Usar solo si las clases estan balanceadas.\n",
    "Es el porcentaje total de casos favorables. <br>\n",
    "La mayoría de los clientes no están interesados en la oferta, así que es muy fácil acertar diciendo que no lo van a estar."
   ]
  },
  {
   "cell_type": "code",
   "execution_count": 64,
   "metadata": {},
   "outputs": [
    {
     "name": "stdout",
     "output_type": "stream",
     "text": [
      "0.9666666666666667\n"
     ]
    }
   ],
   "source": [
    "from sklearn.metrics import accuracy_score\n",
    "\n",
    "exactitud = accuracy_score(y_test, y_test_pred)\n",
    "print(exactitud)"
   ]
  },
  {
   "cell_type": "markdown",
   "metadata": {},
   "source": [
    "### **`Precisión`** Mide la calidad del modelo en tareas de clasificación.\n",
    "Indica cuanto acerto el modelo dentro de todos los positivos (FP y TP) sean correctos o no.<br>\n",
    "ERROR DE TIPO II<br>\n",
    "¿qué porcentaje de los clientes que contactemos estarán interesados?"
   ]
  },
  {
   "cell_type": "code",
   "execution_count": 65,
   "metadata": {},
   "outputs": [
    {
     "name": "stdout",
     "output_type": "stream",
     "text": [
      "[1.  0.9 1. ]\n"
     ]
    }
   ],
   "source": [
    "from sklearn.metrics import precision_score\n",
    "\n",
    "precision = precision_score(y_test, y_test_pred, average= None)\n",
    "print(precision)\n",
    "# Lo hace para cada una de las clases \n"
   ]
  },
  {
   "cell_type": "markdown",
   "metadata": {},
   "source": [
    "### **`Exhaustividad/Recall/Sensibilidad`** Mide la cantidad que el modelo es capaz de identificar.\n",
    "Indica cuantos positivos es capaz de identificar el modelo. <br>\n",
    "ERROR DE TIPO I <br>\n",
    "¿qué porcentaje de los clientes están interesados somos capaces de identificar?"
   ]
  },
  {
   "cell_type": "code",
   "execution_count": 66,
   "metadata": {},
   "outputs": [
    {
     "name": "stdout",
     "output_type": "stream",
     "text": [
      "[1.         1.         0.90909091]\n"
     ]
    }
   ],
   "source": [
    "from sklearn.metrics import recall_score\n",
    "\n",
    "precision = recall_score(y_test, y_test_pred, average= None)\n",
    "print(precision)"
   ]
  },
  {
   "cell_type": "markdown",
   "metadata": {},
   "source": [
    "### **`F1-Score`** combina las medidas de precision y recall en un sólo valor.<br>\n",
    "El valor F1 asume que nos importa de igual forma la precisión y la exhaustividad\n"
   ]
  },
  {
   "cell_type": "code",
   "execution_count": 67,
   "metadata": {},
   "outputs": [
    {
     "name": "stdout",
     "output_type": "stream",
     "text": [
      "[1.         0.94736842 0.95238095] <class 'numpy.ndarray'>\n"
     ]
    }
   ],
   "source": [
    "from sklearn.metrics import f1_score\n",
    "\n",
    "precision = f1_score(y_test, y_test_pred, average= None)\n",
    "print(precision, type(precision))"
   ]
  },
  {
   "cell_type": "markdown",
   "metadata": {},
   "source": [
    "\n",
    "### **`Curvas ROC`**\n",
    "\n",
    "\n",
    "Dejamos [aquí](https://scikit-learn.org/stable/auto_examples/model_selection/plot_roc.html) la documentación pertinente."
   ]
  },
  {
   "cell_type": "markdown",
   "metadata": {},
   "source": [
    "Debemos trabajar con un método del preprocesamiento de datos -denominado *label_binarize*- que permita abordar un problema  de clasificación multiclase como si fuese binario. Esto lo hacemos ya que la métrica ROC se emplea para problemas binarios. Dejamos la [documentación](https://scikit-learn.org/stable/modules/generated/sklearn.preprocessing.label_binarize.html) para que se interioricen un poco más acerca de esta función."
   ]
  },
  {
   "cell_type": "code",
   "execution_count": 68,
   "metadata": {},
   "outputs": [],
   "source": [
    "from sklearn.preprocessing import label_binarize\n",
    "# Tranforma una clasificacion multiclase a tipo binario"
   ]
  },
  {
   "cell_type": "code",
   "execution_count": 69,
   "metadata": {},
   "outputs": [
    {
     "name": "stdout",
     "output_type": "stream",
     "text": [
      "[[0 1 0]\n",
      " [1 0 0]\n",
      " [0 0 1]\n",
      " [0 1 0]\n",
      " [0 1 0]]\n"
     ]
    }
   ],
   "source": [
    "# Binarizamos y_test\n",
    "\n",
    "y_test = label_binarize(y_test, classes=[0, 1, 2])\n",
    "n_classes = y_test.shape[1]\n",
    "print(y_test[:5])"
   ]
  },
  {
   "cell_type": "markdown",
   "metadata": {},
   "source": [
    "Hasta este momento, nosotros veníamos trabajando con el método `predict` para poder predecir una etiqueta para un registro. \n",
    "\n",
    "Ahora veremos la funcionalidad de `predict_proba`, que indica la probabilidad de que una instancia pertenezca a una de las categorías de la variable de salida."
   ]
  },
  {
   "cell_type": "code",
   "execution_count": 70,
   "metadata": {},
   "outputs": [
    {
     "name": "stdout",
     "output_type": "stream",
     "text": [
      "[[0.   0.66 0.34]\n",
      " [0.8  0.2  0.  ]\n",
      " [0.   0.26 0.74]\n",
      " [0.   0.7  0.3 ]\n",
      " [0.   0.54 0.46]]\n"
     ]
    }
   ],
   "source": [
    "y_score = classifier.predict_proba(X_test)\n",
    "print(y_score[:5])"
   ]
  },
  {
   "cell_type": "code",
   "execution_count": 71,
   "metadata": {},
   "outputs": [],
   "source": [
    "# Computamos los valores de FPR (Tasa de falsos positivos) y TPR (tasa de verdaderos positivos), para luego realizar\n",
    "# el gráfico de la curva ROC.\n",
    "\n",
    "from sklearn.metrics import roc_curve, auc\n",
    "\n",
    "fpr = dict()\n",
    "tpr = dict()\n",
    "roc_auc = dict()\n",
    "\n",
    "for i in range(n_classes):\n",
    "    fpr[i], tpr[i], _ = roc_curve(y_test[:, i], y_score[:, i])\n",
    "    roc_auc[i] = auc(fpr[i], tpr[i])"
   ]
  },
  {
   "cell_type": "markdown",
   "metadata": {},
   "source": [
    "Pasamos a graficar"
   ]
  },
  {
   "cell_type": "code",
   "execution_count": 72,
   "metadata": {},
   "outputs": [
    {
     "data": {
      "image/png": "[encoded data removed]",
      "text/plain": [
       "<Figure size 576x576 with 1 Axes>"
      ]
     },
     "metadata": {
      "needs_background": "light"
     },
     "output_type": "display_data"
    },
    {
     "data": {
      "image/png": "[encoded data removed]",
      "text/plain": [
       "<Figure size 576x576 with 1 Axes>"
      ]
     },
     "metadata": {
      "needs_background": "light"
     },
     "output_type": "display_data"
    },
    {
     "data": {
      "image/png": "[encoded data removed]",
      "text/plain": [
       "<Figure size 576x576 with 1 Axes>"
      ]
     },
     "metadata": {
      "needs_background": "light"
     },
     "output_type": "display_data"
    }
   ],
   "source": [
    "# Recorremos con un bucle cada una de las clases\n",
    "\n",
    "for i in range(n_classes):\n",
    "    plt.figure(figsize=(8,8))\n",
    "    plt.plot(fpr[i], tpr[i],'o--', label='ROC curve (area = %0.2f)' % roc_auc[i])\n",
    "    plt.plot([0, 1], [0, 1], 'k--')\n",
    "    plt.xlim([-0.05, 1.05])\n",
    "    plt.ylim([-0.05, 1.05])\n",
    "    plt.xlabel('False Positive Rate') # Sensitividad\n",
    "    plt.ylabel('True Positive Rate') # Exhaustividad\n",
    "    plt.title('Curva ROC: Clase ' + str(i))\n",
    "    plt.legend(loc=\"lower right\")\n",
    "    plt.grid()\n",
    "    plt.show()\n",
    "\n",
    "# Porcentaje entre 0 y 1\n",
    "# La diagonal es la curva de ROC, al cambiar el umbral nos movemos sobre esa curva"
   ]
  },
  {
   "cell_type": "markdown",
   "metadata": {},
   "source": [
    "Medimos el AUC (Area Bajo la Curva)"
   ]
  },
  {
   "cell_type": "code",
   "execution_count": 73,
   "metadata": {},
   "outputs": [],
   "source": [
    "from sklearn.preprocessing import LabelBinarizer\n",
    "from sklearn.metrics import roc_auc_score\n",
    "\n",
    "\n",
    "def multiclass_roc_auc_score(y_test, y_pred, average= 'macro'):\n",
    "    lb = LabelBinarizer()\n",
    "    lb.fit(y_test)\n",
    "    y_test = lb.transform(y_test)\n",
    "    y_pred = lb.transform(y_pred)\n",
    "    return roc_auc_score(y_test, y_pred, average=average)"
   ]
  },
  {
   "cell_type": "code",
   "execution_count": 74,
   "metadata": {},
   "outputs": [
    {
     "name": "stdout",
     "output_type": "stream",
     "text": [
      "El AUC-ROC multiclase: 0.976911976911977\n"
     ]
    }
   ],
   "source": [
    "print('El AUC-ROC multiclase:',multiclass_roc_auc_score(y_test, y_test_pred))\n",
    "# Arriba de 0.8 indica que funciona muy bien"
   ]
  }
 ],
 "metadata": {
  "kernelspec": {
   "display_name": "Python 3.9.12 ('base')",
   "language": "python",
   "name": "python3"
  },
  "language_info": {
   "codemirror_mode": {
    "name": "ipython",
    "version": 3
   },
   "file_extension": ".py",
   "mimetype": "text/x-python",
   "name": "python",
   "nbconvert_exporter": "python",
   "pygments_lexer": "ipython3",
   "version": "3.9.12"
  },
  "vscode": {
   "interpreter": {
    "hash": "20a9e06a1eee47c4abbed4ec8225ad91d78d9800d202b71b6b0a6e47016c6abd"
   }
  }
 },
 "nbformat": 4,
 "nbformat_minor": 2
}
